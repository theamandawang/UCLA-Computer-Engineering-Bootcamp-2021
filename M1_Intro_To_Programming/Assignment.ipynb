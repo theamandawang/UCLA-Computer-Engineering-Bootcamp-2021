{
  "nbformat": 4,
  "nbformat_minor": 0,
  "metadata": {
    "colab": {
      "name": "LACC2021 Module 1 - Python Intro Assignments.ipynb",
      "provenance": [],
      "collapsed_sections": []
    },
    "kernelspec": {
      "display_name": "Python 3",
      "language": "python",
      "name": "python3"
    },
    "language_info": {
      "codemirror_mode": {
        "name": "ipython",
        "version": 3
      },
      "file_extension": ".py",
      "mimetype": "text/x-python",
      "name": "python",
      "nbconvert_exporter": "python",
      "pygments_lexer": "ipython3",
      "version": "3.7.9"
    }
  },
  "cells": [
    {
      "cell_type": "markdown",
      "metadata": {
        "id": "hFFAUcwnIvNI"
      },
      "source": [
        "# UCLA CE Bootcamp 2021 Module 1\n",
        "# Python Introduction\n",
        "\n",
        "This is your jupyter notebook for the first module. Feel free to edit it to your liking (notes, comments etc.)\n",
        "\n",
        "## Assignment #1\n",
        "## English Word to Pig Latin Translator\n",
        "\n",
        "* Pig Latin is a language game, where you move the first letter of the word to the end and add \"ay.\" So \"Python\" becomes \"ythonpay.\"\n",
        "\n",
        "* Prompt the user with the phrase “Enter a word:”, and then output the word entered by the user translated into Pig Latin in lowercase\n",
        "\n",
        "* If the user’s entry is empty, non-alphabetical, or has multiple word the output should be “Error: incorrect input”."
      ]
    },
    {
      "cell_type": "code",
      "metadata": {
        "id": "cNeKlpe5IvNK",
        "outputId": "f11ad035-5862-4b56-eed3-df342d481049",
        "colab": {
          "base_uri": "https://localhost:8080/"
        }
      },
      "source": [
        "# get user input\n",
        "\n",
        "def translateToPigLatin(input):\n",
        "  if(checkForError(input)):\n",
        "    print((input[1:] + input[0] + 'ay').lower())\n",
        "  else:\n",
        "    print('Error: incorrect input')\n",
        "  return\n",
        "def checkForError(input):\n",
        "    #code to check erraneous input\n",
        "    if(input == ''): \n",
        "      return False\n",
        "    if(any(map(lambda x: (ord(x) < 65 or ord(x) > 122), input))):\n",
        "      return False\n",
        "    return True\n",
        "\n",
        "user_input = input('Enter a word: ')#code to get user input\n",
        "translateToPigLatin(user_input)\n",
        "\n",
        "\n",
        "\n",
        "\n",
        "    #code to convert a word into pig latin"
      ],
      "execution_count": 81,
      "outputs": [
        {
          "output_type": "stream",
          "name": "stdout",
          "text": [
            "Enter a word: fdsaf jkl\n",
            "Error: incorrect input\n"
          ]
        }
      ]
    },
    {
      "cell_type": "markdown",
      "metadata": {
        "id": "ElxGsZJGIvNM"
      },
      "source": [
        "## Assignment #2\n",
        "## Compute Statistics\n",
        "\n",
        "* Mean, mode, and medianare three common statistics of a set of numbers.\n",
        "\n",
        "* Prompt the user with the phrase “Enter a comma separated list of numbers:”\n",
        "\n",
        "* Output on three separate lines the mean, mode, and median of the entered numbers as “Mean = ...”, “Mode = ...” and “Median = ...”. \n",
        "\n",
        "* The user may enter numbers as integers or real.\n",
        "\n",
        "* Hint : Consider using the function input()instead of raw_input()-look up on the web as to how it works."
      ]
    },
    {
      "cell_type": "code",
      "metadata": {
        "collapsed": true,
        "id": "f_d09XRYIvNN",
        "outputId": "a206c7d5-04a5-4a99-8d86-3180b923eb0e",
        "colab": {
          "base_uri": "https://localhost:8080/"
        }
      },
      "source": [
        "# write your code below to compute statistics\n",
        "\n",
        "lst = input('Enter a comma separated list of numbers:')\n",
        "# temp = lst.split(',')\n",
        "# for x in temp:\n",
        "#   if not x.isnumeric():\n",
        "#     raise ValueError('uh oh you did not follow the rules.')\n",
        "\n",
        "lst = eval('[' + lst + ']')\n",
        "lst.sort()\n",
        "print('Mean = ' + str(sum(lst)/len(lst)))\n",
        "print(lst)\n",
        "count1 = 0\n",
        "mode = pow(2,51)\n",
        "i = 0\n",
        "while i < len(lst):\n",
        "   count2 = 0\n",
        "   x = i\n",
        "\n",
        "   while (x < len(lst) and lst[i] == lst[x]):\n",
        "     count2+=1\n",
        "     x+=1\n",
        "   #print(count2)\n",
        "   if(count2 > count1):\n",
        "     count1 = count2\n",
        "     mode = lst[i]\n",
        "   i=x\n",
        "print('Mode: ' + str(mode))\n",
        "if(len(lst) % 2 == 0):\n",
        "  print('Median: ' + str((lst[len(lst)//2] + lst[len(lst)//2 - 1])/2))\n",
        "else:\n",
        "  print('Median: ' + str(lst[len(lst)//2]))\n"
      ],
      "execution_count": 77,
      "outputs": [
        {
          "output_type": "stream",
          "name": "stdout",
          "text": [
            "Enter a comma separated list of numbers:-2, -2, -2, 4\n",
            "Mean = -0.5\n",
            "[-2, -2, -2, 4]\n",
            "Mode: -2\n",
            "Median: -2.0\n"
          ]
        }
      ]
    },
    {
      "cell_type": "markdown",
      "metadata": {
        "id": "OcwTY92cIvNO"
      },
      "source": [
        "## Assignment #3\n",
        "## Tic-Tac-Toe\n",
        "\n",
        "* Start a game of tic-tac-toe and print out the initial 3 by 3 board. \n",
        "\n",
        "* Prompt a player to make a move through an input. By default, the first player will always put “X”. \n",
        "\n",
        "* After every valid player input, the board is updated and printed. \n",
        "\n",
        "* Check that a player’s move is valid otherwise the player has to make another input and an error message of \"Invalid move\" is printed. \n",
        "\n",
        "* Game continues until either the game reaches a stalemate or one player is the winner. \n",
        "\n"
      ]
    },
    {
      "cell_type": "code",
      "metadata": {
        "collapsed": true,
        "id": "4nz7mK7eIvNP",
        "outputId": "8e27eebd-8319-4529-8565-def8f6fc2e05",
        "colab": {
          "base_uri": "https://localhost:8080/"
        }
      },
      "source": [
        "# write your code below to create the game\n",
        "import numpy\n",
        "def formatPrint(matrix):\n",
        "  for x in range(len(matrix)):\n",
        "    print(*matrix[x])\n",
        "\n",
        "def checkWin(matrix):\n",
        "  #left right diagonal\n",
        "  if(matrix[0][0] == matrix[1][1] == matrix[2][2] != b'[ ]'):\n",
        "    if(matrix[0][0] == b'[X]'):\n",
        "      print('Player 1 Won!')\n",
        "    else:\n",
        "      print('Player 2 Won!')\n",
        "    return True\n",
        "  #right left diagonal\n",
        "  if(matrix[2][0] == matrix[1][1] == matrix[0][2] != b'[ ]'):\n",
        "    if(matrix[2][0] == b'[X]'):\n",
        "      print('Player 1 Won!')\n",
        "    else:\n",
        "      print('Player 2 Won!')\n",
        "    return True\n",
        "  #first column\n",
        "  if(matrix[0][0] == matrix[1][0] == matrix[2][0] != b'[ ]'):\n",
        "    if(matrix[0][0] == b'[X]'):\n",
        "      print('Player 1 Won!')\n",
        "    else:\n",
        "      print('Player 2 Won!')\n",
        "    return True\n",
        "  #second column \n",
        "  if(matrix[0][1] == matrix[1][1] == matrix[2][1] != b'[ ]'):\n",
        "    if(matrix[0][1] == b'[X]'):\n",
        "      print('Player 1 Won!')\n",
        "    else:\n",
        "      print('Player 2 Won!')\n",
        "    return True\n",
        "  #third column\n",
        "  if(matrix[0][2] == matrix[1][2] == matrix[2][2] != b'[ ]'):\n",
        "    if(matrix[0][2] == b'[X]'):\n",
        "      print('Player 1 Won!')\n",
        "    else:\n",
        "      print('Player 2 Won!')\n",
        "    return True\n",
        "  # first row\n",
        "  if(matrix[0][0] == matrix[0][1] == matrix[0][2] != b'[ ]'):\n",
        "    if(matrix[0][0] == b'[X]'):\n",
        "      print('Player 1 Won!')\n",
        "    else:\n",
        "      print('Player 2 Won!')\n",
        "    return True\n",
        "  # second row\n",
        "  if(matrix[1][0] == matrix[1][1] == matrix[1][2] != b'[ ]'):\n",
        "    if(matrix[1][0] == b'[X]'):\n",
        "      print('Player 1 Won!')\n",
        "    else:\n",
        "      print('Player 2 Won!')\n",
        "    return True\n",
        "  # third row\n",
        "  if(matrix[2][0] == matrix[2][1] == matrix[2][2] != b'[ ]'):\n",
        "    if(matrix[2][0] == b'[X]'):\n",
        "      print('Player 1 Won!')\n",
        "    else:\n",
        "      print('Player 2 Won!')\n",
        "    return True\n",
        "  return False\n",
        "\n",
        "#mat = [['[]', '[]', '[]'], ['[]', '[]', '[]'], ['[]', '[]', '[]']]\n",
        "mat = numpy.chararray((3, 3), itemsize = 3)\n",
        "mat[:] = '[ ]'\n",
        "# for i in range(3):\n",
        "#   print('[]\\t[]\\t[]')\n",
        "winner = False\n",
        "n = 0\n",
        "while((not winner) and n<9):\n",
        "  if(n%2 == 0):\n",
        "    print('ready player 1?')\n",
        "  if(n%2 == 1):\n",
        "    print('ready player 2?')\n",
        "  move = input('make your move. row then column, space between. rows go 0-2, columns 0-2 ')\n",
        "  move = move.split()\n",
        "  while(mat[int(move[0])][int(move[1])] != b'[ ]'):\n",
        "    move = input('try again: this is already full!')\n",
        "    move = move.split()\n",
        "  if(n%2 == 0):\n",
        "    mat[int(move[0])][int(move[1])] = '[X]'\n",
        "  if(n%2 == 1):\n",
        "    mat[int(move[0])][int(move[1])] = '[O]'\n",
        "  winner = checkWin(mat)\n",
        "  n+=1\n",
        "  formatPrint(mat.decode())\n",
        "  if(n == 9 and not winner):\n",
        "    print('uh oh yall tied')"
      ],
      "execution_count": 26,
      "outputs": [
        {
          "output_type": "stream",
          "name": "stdout",
          "text": [
            "ready player 1?\n",
            "make your move. row then column, space between. rows go 0-2, columns 0-2 1 1\n",
            "[ ] [ ] [ ]\n",
            "[ ] [X] [ ]\n",
            "[ ] [ ] [ ]\n",
            "ready player 2?\n",
            "make your move. row then column, space between. rows go 0-2, columns 0-2 0 0\n",
            "[O] [ ] [ ]\n",
            "[ ] [X] [ ]\n",
            "[ ] [ ] [ ]\n",
            "ready player 1?\n",
            "make your move. row then column, space between. rows go 0-2, columns 0-2 2 0\n",
            "[O] [ ] [ ]\n",
            "[ ] [X] [ ]\n",
            "[X] [ ] [ ]\n",
            "ready player 2?\n",
            "make your move. row then column, space between. rows go 0-2, columns 0-2 0 2\n",
            "[O] [ ] [O]\n",
            "[ ] [X] [ ]\n",
            "[X] [ ] [ ]\n",
            "ready player 1?\n",
            "make your move. row then column, space between. rows go 0-2, columns 0-2 0 1\n",
            "[O] [X] [O]\n",
            "[ ] [X] [ ]\n",
            "[X] [ ] [ ]\n",
            "ready player 2?\n",
            "make your move. row then column, space between. rows go 0-2, columns 0-2 2 1\n",
            "[O] [X] [O]\n",
            "[ ] [X] [ ]\n",
            "[X] [O] [ ]\n",
            "ready player 1?\n",
            "make your move. row then column, space between. rows go 0-2, columns 0-2 1 2\n",
            "[O] [X] [O]\n",
            "[ ] [X] [X]\n",
            "[X] [O] [ ]\n",
            "ready player 2?\n",
            "make your move. row then column, space between. rows go 0-2, columns 0-2 1 0\n",
            "[O] [X] [O]\n",
            "[O] [X] [X]\n",
            "[X] [O] [ ]\n",
            "ready player 1?\n",
            "make your move. row then column, space between. rows go 0-2, columns 0-2 1 2\n",
            "try again: this is already full!2 2\n",
            "[O] [X] [O]\n",
            "[O] [X] [X]\n",
            "[X] [O] [X]\n",
            "uh oh yall tied\n"
          ]
        }
      ]
    }
  ]
}