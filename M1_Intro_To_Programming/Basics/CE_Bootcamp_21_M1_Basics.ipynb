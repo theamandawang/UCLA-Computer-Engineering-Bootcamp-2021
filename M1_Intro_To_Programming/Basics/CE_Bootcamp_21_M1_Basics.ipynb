{
  "nbformat": 4,
  "nbformat_minor": 0,
  "metadata": {
    "colab": {
      "name": "LACC2021 Module 1 - Python Intro.ipynb",
      "provenance": [],
      "collapsed_sections": []
    },
    "kernelspec": {
      "display_name": "Python 3",
      "language": "python",
      "name": "python3"
    },
    "language_info": {
      "codemirror_mode": {
        "name": "ipython",
        "version": 3
      },
      "file_extension": ".py",
      "mimetype": "text/x-python",
      "name": "python",
      "nbconvert_exporter": "python",
      "pygments_lexer": "ipython3",
      "version": "3.7.9"
    }
  },
  "cells": [
    {
      "cell_type": "markdown",
      "metadata": {
        "id": "0s_PaCN2IwF4"
      },
      "source": [
        "# UCLA CE Bootcamp 2021 Module 1 - Basics\n",
        "# Python Introduction\n",
        "\n",
        "This is your jupyter notebook for the first module. Feel free to edit it to your liking (notes, comments etc.)\n",
        "\n",
        "## Part 1: Variables, Types & Operators\n",
        "## Warm-up\n",
        "\n",
        "Let's start with something simple. Click on the cell below and assign numerical values to variables __a__ and __b__. Then press _Ctrl+Enter_ to run it and see the output. Feel free to change the values and operators and re-run."
      ]
    },
    {
      "cell_type": "code",
      "metadata": {
        "id": "9DU11tO6IwF5"
      },
      "source": [
        "# Assign values here\n",
        "a = 6\n",
        "b = 10\n",
        "\n",
        "c = a + b\n",
        "d = a * b\n",
        "e = a - b\n",
        "f = a / b\n",
        "\n",
        "# Don't worry about this for now, but if you want to understand how this print function works,\n",
        "# here's the breakdown:\n",
        "# 1. Multiple strings can be merged using addition operator +\n",
        "# 2. Numerical values can be converted to string by calling the str() function on them\n",
        "# 3. So we convert are results to strings and merge them with other strings to create a single one\n",
        "print(\"Sum: \" + str(c) + \", product: \" + str(d) + \", difference \" + str(e) + \", quotient: \" + str(f))\n"
      ],
      "execution_count": null,
      "outputs": []
    },
    {
      "cell_type": "markdown",
      "metadata": {
        "id": "FPMChcm-IwF6"
      },
      "source": [
        "Now let's quickly look at boolean variables and comparison operators. If you run the code below, you can see the results of some comparisons of variables \"a\" and \"b\" you defined above. Notice that the result of the comparison is either __True__ or __False__ - those are called boolean values.\n",
        "\n",
        "If you change the a/b variables above, remember to re-run the above cell to update those values."
      ]
    },
    {
      "cell_type": "code",
      "metadata": {
        "id": "Zt8oXy_oIwF7"
      },
      "source": [
        "# You don't need to change this code in any way\n",
        "print (\"Is a equal to b? \"           + str( a == b ))\n",
        "print (\"Is a different than b? \"     + str( a != b ))\n",
        "print (\"Is a greater than b? \"       + str( a >  b ))\n",
        "print (\"Is a less or equal than b? \" + str( a <= b ))"
      ],
      "execution_count": null,
      "outputs": []
    },
    {
      "cell_type": "markdown",
      "metadata": {
        "id": "pnai8B4zIwF7"
      },
      "source": [
        "## Exercise 1 - Lists\n",
        "\n",
        "Now let's play around with lists a bit. A five element list __L__ is defined in the cell below. Write the code to do the following:\n",
        "* Print the second item in this list.\n",
        "* Get the sum of all the values in this list.\n",
        "* Append value 7 after value 6 into the list.\n",
        "* Using range, print all the even numbers from 4 to 12 (inlcuding 12). \n",
        "\n",
        "To print out a numerical value, you need to convert it to a string, e.g.:<br>\n",
        "s = 4<br>\n",
        "print(\"Value of s: \" + str(s))"
      ]
    },
    {
      "cell_type": "code",
      "metadata": {
        "id": "FX6equkNIwF8",
        "colab": {
          "base_uri": "https://localhost:8080/"
        },
        "outputId": "f4ff1602-a379-4fa6-e85c-74f6c7dd1065"
      },
      "source": [
        "# This is list you will be working on:\n",
        "L = [ 2, 3, 4, 5, 6 ]\n",
        "\n",
        "# Write your code below\n",
        "# Print the second item in this list:\n",
        "\n",
        "second = L[1]\n",
        "\n",
        "print (\"Second item in the list L is: \" + str(second))\n",
        "\n",
        "# Get the sum of all the values in this list:\n",
        "\n",
        "s = sum(L)\n",
        "#using sum is much more efficient than creating a for each loop to add.\n",
        "\n",
        "print (\"Sum of the elements in the list is: \" + str(s))\n",
        "\n",
        "# Append value 7 after 6 into the list:\n",
        "\n",
        "L.append(7)\n",
        "\n",
        "print (\"Expanded list: \" + str(L))\n",
        "\n",
        "# Using range, print all the even numbers from 4 to 12. \n",
        "\n",
        "R = list(range(4,13,2))\n",
        "#range is a pointer, so you must cast to list in order to print\n",
        "\n",
        "print (\"Even list: \" + str(R))"
      ],
      "execution_count": null,
      "outputs": [
        {
          "output_type": "stream",
          "name": "stdout",
          "text": [
            "Second item in the list L is: 3\n",
            "Sum of the elements in the list is: 20\n",
            "Expanded list: [2, 3, 4, 5, 6, 7]\n",
            "Even list: [4, 6, 8, 10, 12]\n"
          ]
        }
      ]
    },
    {
      "cell_type": "markdown",
      "metadata": {
        "id": "GBAeKLJJIwF8"
      },
      "source": [
        "## Exercise 2 - Strings\n",
        "\n",
        "Given the string defined below, write the code to do the following:\n",
        "* Print the fifth letter in the string.\n",
        "* Capitalize all letters.\n",
        "* Replace spaces with hyphens."
      ]
    },
    {
      "cell_type": "code",
      "metadata": {
        "id": "BjK0DT1rIwF9",
        "scrolled": true,
        "colab": {
          "base_uri": "https://localhost:8080/"
        },
        "outputId": "cd73bbbd-11e7-47fc-d295-ff3ae0883503"
      },
      "source": [
        "# This is the string you'll be working on:\n",
        "S = \"This is an example string\"\n",
        "\n",
        "# Write your code below\n",
        "# Print the fifth letter in the string\n",
        "temp = S.replace(' ', '')\n",
        "fifth = temp[4]\n",
        "\n",
        "print (\"Fifth letter in the string S is: \" + fifth)\n",
        "\n",
        "# Capitalize all letters:\n",
        "\n",
        "S_upper = S.capitalize()\n",
        "\n",
        "print (\"Capitalized string: \" + S_upper)\n",
        "\n",
        "# Replace spaces with hyphens\n",
        "\n",
        "S_replaced = S.replace(' ', '-')\n",
        "\n",
        "print (\"Hyphenated string: \" + S_replaced)"
      ],
      "execution_count": null,
      "outputs": [
        {
          "output_type": "stream",
          "name": "stdout",
          "text": [
            "Fifth letter in the string S is: i\n",
            "Capitalized string: This is an example string\n",
            "Hyphenated string: This-is-an-example-string\n"
          ]
        }
      ]
    },
    {
      "cell_type": "markdown",
      "metadata": {
        "id": "H0-CfeoDNlF5"
      },
      "source": [
        "Notes:\n",
        "\n",
        "Everything in Python is first converted into C, and then compiled and run.\n",
        "\n",
        "Compiled vs. Interpreted programs!\n",
        "C is compiled, Python is interpreted\n",
        "\n",
        "Splicing!\n",
        "\n",
        "type of indexing; very similar to substring"
      ]
    },
    {
      "cell_type": "code",
      "metadata": {
        "id": "ECkytSA0OzLX",
        "outputId": "0626c33e-d85c-49a4-a271-a51560a38b83",
        "colab": {
          "base_uri": "https://localhost:8080/"
        }
      },
      "source": [
        "spliceL = [0, 1, 2, 3, 4, 5]\n",
        "\n",
        "a = spliceL[2:5] #third element to the sixth element (excludes the sixth)\n",
        "print(a)\n",
        "\n",
        "a = spliceL[2:6:2] #format is List[start: end : step]\n",
        "print(a)\n",
        "\n",
        "print(spliceL[:4]) # colon on the left (empty start) means that it will include all elements before end; remember, end is exclusive!\n",
        "print(spliceL[2:]) # colon on the right (empty end) means that it will include all elements following start\n"
      ],
      "execution_count": 4,
      "outputs": [
        {
          "output_type": "stream",
          "name": "stdout",
          "text": [
            "[2, 3, 4]\n",
            "[2, 4]\n",
            "[0, 1, 2, 3]\n",
            "[2, 3, 4, 5]\n"
          ]
        }
      ]
    }
  ]
}