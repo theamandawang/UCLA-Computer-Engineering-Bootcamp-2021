{
  "nbformat": 4,
  "nbformat_minor": 0,
  "metadata": {
    "colab": {
      "name": "LACC2021 Module 1 - Python Intro.ipynb",
      "provenance": [],
      "collapsed_sections": []
    },
    "kernelspec": {
      "display_name": "Python 3",
      "language": "python",
      "name": "python3"
    },
    "language_info": {
      "codemirror_mode": {
        "name": "ipython",
        "version": 3
      },
      "file_extension": ".py",
      "mimetype": "text/x-python",
      "name": "python",
      "nbconvert_exporter": "python",
      "pygments_lexer": "ipython3",
      "version": "3.7.9"
    }
  },
  "cells": [
    {
      "cell_type": "markdown",
      "metadata": {
        "id": "0s_PaCN2IwF4"
      },
      "source": [
        "# UCLA CE Bootcamp 2021 Module 1\n",
        "# Python Introduction"
      ]
    },
    {
      "cell_type": "markdown",
      "metadata": {
        "id": "Qh85rPnPIwF-"
      },
      "source": [
        "## Exercise 3 - Dictionaries\n",
        "\n",
        "Given the dictionaries D and E defined below, do the following:\n",
        "* Add John's and Tom's surnames with \"Surname\" as a key.\n",
        "* Change John's city to NY.\n",
        "* Create a list F with both dictionaries as it's elements.\n",
        "* Print out the age of the first person on the list F."
      ]
    },
    {
      "cell_type": "code",
      "metadata": {
        "id": "BpRlcHGEIwF-",
        "outputId": "9e737049-ba74-4a8d-af99-0e0d0f91ec4a",
        "colab": {
          "base_uri": "https://localhost:8080/"
        }
      },
      "source": [
        "# Those are the dictionaries you will be working on\n",
        "D = {'Name': 'John', \"Age\": 17, \"City\": \"LA\"}\n",
        "E = {'Name': 'Tom',  \"Age\": 16, \"City\": \"SF\"}\n",
        "\n",
        "# Write your code below\n",
        "# Add John's and Tom's surnames with \"Surname\" as a key\n",
        "D['Surname'] = 'Jimothy'\n",
        "E['Surname'] = 'Todd'\n",
        "print (\"John's surname is: \" + D['Surname'])\n",
        "print (\"Tom's surname is: \" + E['Surname'])\n",
        "\n",
        "# Change John's city to NY\n",
        "D['City'] = 'NY'\n",
        "print (\"John's city is: \" + D['City'])\n",
        "\n",
        "# Create a list F with both dictionaries as it's elements \n",
        "F = [D,E]\n",
        "print(F)\n",
        "# Print out the age of the first person on the list F\n",
        "\n",
        "print(\"First person on list F is: \" + str(F[0]['Age']) )"
      ],
      "execution_count": 4,
      "outputs": [
        {
          "output_type": "stream",
          "name": "stdout",
          "text": [
            "John's surname is: Jimothy\n",
            "Tom's surname is: Todd\n",
            "John's city is: NY\n",
            "[{'Name': 'John', 'Age': 17, 'City': 'NY', 'Surname': 'Jimothy'}, {'Name': 'Tom', 'Age': 16, 'City': 'SF', 'Surname': 'Todd'}]\n",
            "First person on list F is: 17\n"
          ]
        }
      ]
    },
    {
      "cell_type": "markdown",
      "metadata": {
        "id": "smaXZ5UUIwGA"
      },
      "source": [
        "## Exercise 4 - Looping\n",
        "Given the list G (of dictionaries) below, do the following:\n",
        "* Write a for loop that prints out all names.\n",
        "* Write another for loop that adds up all ages and print the sum at the end."
      ]
    },
    {
      "cell_type": "code",
      "metadata": {
        "id": "Y4eRbE9HIwGA",
        "outputId": "3ccc8006-1f0b-4158-dcd3-6e0660610e7f",
        "colab": {
          "base_uri": "https://localhost:8080/"
        }
      },
      "source": [
        "# This is the list of dictionaries you will be using\n",
        "G = [{'Name': 'John', 'Age': 17}, {'Name': 'Tom', 'Age': 16}, {'Name': \"Kate\", 'Age': 17}, {'Name': 'Laura', 'Age': 18}]\n",
        "\n",
        "# Write your code below.\n",
        "\n",
        "# Write a for loop that prints out all names.\n",
        "for each in G:\n",
        "  print(each['Name'])\n",
        "\n",
        "# Write another for loop that adds up all ages and print the sum at the end.\n",
        "total = 0\n",
        "for each in G:\n",
        "  total+=each['Age']\n",
        "print(total)\n"
      ],
      "execution_count": 8,
      "outputs": [
        {
          "output_type": "stream",
          "name": "stdout",
          "text": [
            "John\n",
            "Tom\n",
            "Kate\n",
            "Laura\n",
            "68\n"
          ]
        }
      ]
    },
    {
      "cell_type": "markdown",
      "metadata": {
        "id": "ekcaXmvBIwGB"
      },
      "source": [
        "## Exercise 5 - Conditional\n",
        "\n",
        "* Given the list D (of integers) below, do the following:\n",
        "* Print only those values that are even in the list"
      ]
    },
    {
      "cell_type": "code",
      "metadata": {
        "id": "quq5JmwgIwGC",
        "outputId": "08150272-ea76-4116-bb5a-152475aec375",
        "colab": {
          "base_uri": "https://localhost:8080/"
        }
      },
      "source": [
        "# This is the list of integers you will be using\n",
        "D = {4,10, 13, 18, 21}\n",
        "\n",
        "# Write your code below.\n",
        "\n",
        "# Write a loop with if condition to print even values\n",
        "\n",
        "for each in D:\n",
        "  if each%2 == 0:\n",
        "    print(each)"
      ],
      "execution_count": 3,
      "outputs": [
        {
          "output_type": "stream",
          "name": "stdout",
          "text": [
            "4\n",
            "10\n",
            "18\n"
          ]
        }
      ]
    },
    {
      "cell_type": "markdown",
      "metadata": {
        "id": "_dVD0Am0IwF_"
      },
      "source": [
        "## Exercise 6 - Functions\n",
        "\n",
        "Write a function gte10() that does the following things:\n",
        "* The function takes a number x into the function.\n",
        "* In the function, deduct 10 from x.\n",
        "* If the result of the deduction is greater than or equal to 0, the function returns 1.\n",
        "* Otherwise, it returns 0."
      ]
    },
    {
      "cell_type": "code",
      "metadata": {
        "id": "d65g1rUtIwF_",
        "outputId": "f84e1459-ce7b-414e-e6c7-51dd3f21b348",
        "colab": {
          "base_uri": "https://localhost:8080/"
        }
      },
      "source": [
        "# Add function implementation here\n",
        "def gte10(x):\n",
        "    if(x - 10 >= 0):\n",
        "       return 1\n",
        "    return 0\n",
        "\n",
        "\n",
        "# Don't modify this part\n",
        "print (gte10(10))\n",
        "print (gte10(11))\n",
        "print (gte10(9))\n",
        "print (gte10(0))\n",
        "print (gte10(-1))\n"
      ],
      "execution_count": 2,
      "outputs": [
        {
          "output_type": "stream",
          "name": "stdout",
          "text": [
            "1\n",
            "1\n",
            "0\n",
            "0\n",
            "0\n"
          ]
        }
      ]
    },
    {
      "cell_type": "markdown",
      "metadata": {
        "id": "LrII2JsIZ0z9"
      },
      "source": [
        "# Exercise 7 - Inputs and Modules\n",
        "\n",
        "Write code that does the following things:\n",
        "\n",
        "* Take a raw input string and request for a number\n",
        "* Check if string is a number\n",
        "* Converts input string to int\n",
        "* Use python’s intrinsic math library to get the square root of the input number. \n"
      ]
    },
    {
      "cell_type": "code",
      "metadata": {
        "id": "TT9XTbBnZvqo",
        "outputId": "7422056d-7297-4b13-a590-3624e8b503a4",
        "colab": {
          "base_uri": "https://localhost:8080/"
        }
      },
      "source": [
        "#Import math library\n",
        "import math\n",
        "\n",
        "# Take an input string\n",
        "stuff = input('gimme a number    ')\n",
        "\n",
        "#Check if string is a number\n",
        "condition = True\n",
        "\n",
        "\n",
        "#actually can use isdigit() or isnumerical() to see if it is number, but then you can't do cute fractions :/\n",
        "for char in stuff:\n",
        "  if(ord(char)<45 or ord(char) > 57):\n",
        "    print(\"ruh roh!\")\n",
        "    condition = False\n",
        "    break\n",
        "\n",
        "\n",
        "#Convert string to number\n",
        "if(condition):\n",
        "  num = eval(stuff)\n",
        "  #Print square root of number\n",
        "  print(\"Square root of \" + stuff + \" is \"+ str(math.sqrt(num)))"
      ],
      "execution_count": 8,
      "outputs": [
        {
          "output_type": "stream",
          "name": "stdout",
          "text": [
            "gimme a number    36\n",
            "Square root of 36 is 6.0\n"
          ]
        }
      ]
    }
  ]
}